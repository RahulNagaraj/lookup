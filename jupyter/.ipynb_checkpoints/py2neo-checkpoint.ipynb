{
 "cells": [
  {
   "cell_type": "code",
   "execution_count": 27,
   "id": "f1a36b9f",
   "metadata": {},
   "outputs": [
    {
     "name": "stdout",
     "output_type": "stream",
     "text": [
      "Requirement already satisfied: py2neo in /opt/conda/lib/python3.9/site-packages (2021.2.3)\n",
      "Requirement already satisfied: certifi in /opt/conda/lib/python3.9/site-packages (from py2neo) (2021.10.8)\n",
      "Requirement already satisfied: pygments>=2.0.0 in /opt/conda/lib/python3.9/site-packages (from py2neo) (2.10.0)\n",
      "Requirement already satisfied: six>=1.15.0 in /opt/conda/lib/python3.9/site-packages (from py2neo) (1.16.0)\n",
      "Requirement already satisfied: monotonic in /opt/conda/lib/python3.9/site-packages (from py2neo) (1.6)\n",
      "Requirement already satisfied: pansi>=2020.7.3 in /opt/conda/lib/python3.9/site-packages (from py2neo) (2020.7.3)\n",
      "Requirement already satisfied: urllib3 in /opt/conda/lib/python3.9/site-packages (from py2neo) (1.26.7)\n",
      "Requirement already satisfied: packaging in /opt/conda/lib/python3.9/site-packages (from py2neo) (21.3)\n",
      "Requirement already satisfied: interchange~=2021.0.4 in /opt/conda/lib/python3.9/site-packages (from py2neo) (2021.0.4)\n",
      "Requirement already satisfied: pytz in /opt/conda/lib/python3.9/site-packages (from interchange~=2021.0.4->py2neo) (2021.3)\n",
      "Requirement already satisfied: pyparsing!=3.0.5,>=2.0.2 in /opt/conda/lib/python3.9/site-packages (from packaging->py2neo) (3.0.6)\n",
      "Requirement already satisfied: pandas in /opt/conda/lib/python3.9/site-packages (1.3.4)\n",
      "Requirement already satisfied: pytz>=2017.3 in /opt/conda/lib/python3.9/site-packages (from pandas) (2021.3)\n",
      "Requirement already satisfied: python-dateutil>=2.7.3 in /opt/conda/lib/python3.9/site-packages (from pandas) (2.8.2)\n",
      "Requirement already satisfied: numpy>=1.17.3 in /opt/conda/lib/python3.9/site-packages (from pandas) (1.21.4)\n",
      "Requirement already satisfied: six>=1.5 in /opt/conda/lib/python3.9/site-packages (from python-dateutil>=2.7.3->pandas) (1.16.0)\n"
     ]
    }
   ],
   "source": [
    "!pip install py2neo\n",
    "!pip install pandas"
   ]
  },
  {
   "cell_type": "code",
   "execution_count": 28,
   "id": "d56a78c5",
   "metadata": {},
   "outputs": [],
   "source": [
    "from py2neo import Graph, Node, Relationship, NodeMatcher\n",
    "from py2neo.bulk import create_nodes\n",
    "import pandas as pd\n",
    "import json"
   ]
  },
  {
   "cell_type": "code",
   "execution_count": 29,
   "id": "574798f0",
   "metadata": {},
   "outputs": [],
   "source": [
    "graph = Graph(\"http://neo4j:7474/db/data/\", auth=(\"neo4j\", \"root\"))"
   ]
  },
  {
   "cell_type": "code",
   "execution_count": null,
   "id": "b587e6a6",
   "metadata": {},
   "outputs": [],
   "source": [
    "graph.run(\"MATCH (a) DETACH DELETE a\")"
   ]
  },
  {
   "cell_type": "code",
   "execution_count": 30,
   "id": "2f9d469b",
   "metadata": {},
   "outputs": [],
   "source": [
    "users_df = pd.read_csv('./data-export/pg/users', delimiter=\",\")  "
   ]
  },
  {
   "cell_type": "code",
   "execution_count": 31,
   "id": "f3438828",
   "metadata": {},
   "outputs": [],
   "source": [
    "users_dict = users_df.to_dict('records')"
   ]
  },
  {
   "cell_type": "code",
   "execution_count": 32,
   "id": "eb5509f7",
   "metadata": {},
   "outputs": [],
   "source": [
    "create_nodes(graph.auto(), users_dict, labels={\"User\"})"
   ]
  },
  {
   "cell_type": "code",
   "execution_count": 33,
   "id": "cc881c11",
   "metadata": {},
   "outputs": [],
   "source": [
    "orders_df = pd.read_csv('./data-export/pg/orders', delimiter=\",\") "
   ]
  },
  {
   "cell_type": "code",
   "execution_count": 34,
   "id": "106afefb",
   "metadata": {},
   "outputs": [],
   "source": [
    "orders_dict = orders_df.to_dict('records')"
   ]
  },
  {
   "cell_type": "code",
   "execution_count": 35,
   "id": "9e4b102c",
   "metadata": {},
   "outputs": [],
   "source": [
    "business_ids = set()\n",
    "\n",
    "for order in orders_dict:\n",
    "    business_ids.add(order[\"businessId\"])"
   ]
  },
  {
   "cell_type": "code",
   "execution_count": 36,
   "id": "cc8d8d4a",
   "metadata": {},
   "outputs": [],
   "source": [
    "businesses = []\n",
    "with open('./data-export/mongo/yelp_businesses.json') as json_file:\n",
    "    businesses = json.load(json_file)"
   ]
  },
  {
   "cell_type": "code",
   "execution_count": 37,
   "id": "6ea492af",
   "metadata": {},
   "outputs": [],
   "source": [
    "for business in businesses:\n",
    "    for bid in business_ids:\n",
    "        if business[\"id\"] == bid:\n",
    "            new_business = {\n",
    "                \"id\": bid, \n",
    "                \"name\": business[\"name\"], \n",
    "                \"city\": business[\"location\"][\"city\"], \n",
    "                \"zipcode\": business[\"location\"][\"zip_code\"],\n",
    "                \"state\": business[\"location\"][\"state\"],\n",
    "                \"country\": business[\"location\"][\"country\"],\n",
    "                \"categories\": [b[\"title\"] for b in business[\"categories\"]],\n",
    "                \"rating\": business[\"rating\"],\n",
    "                \"review_count\": business[\"review_count\"]\n",
    "            }\n",
    "            graph.create(Node(\"Business\", **new_business))"
   ]
  },
  {
   "cell_type": "code",
   "execution_count": 38,
   "id": "ebea72ca",
   "metadata": {},
   "outputs": [],
   "source": [
    "users = []\n",
    "\n",
    "for user in users_dict:\n",
    "    for order in orders_dict:\n",
    "        if user[\"id\"] == order[\"userId\"]:\n",
    "            newData = {\n",
    "                \"id\": user[\"id\"],\n",
    "                \"firstName\": user[\"firstName\"],\n",
    "                \"lastName\": user[\"lastName\"],\n",
    "                \"businessId\": order[\"businessId\"],\n",
    "                \"businessName,\": order[\"businessName\"],\n",
    "                \"serviceType\": order[\"serviceType\"],\n",
    "                \"address\": order[\"address\"]\n",
    "            }\n",
    "            users.append(newData)"
   ]
  },
  {
   "cell_type": "code",
   "execution_count": 39,
   "id": "0f8dbe47",
   "metadata": {},
   "outputs": [],
   "source": [
    "matcher = NodeMatcher(graph)\n",
    "\n",
    "for user in users:\n",
    "    user_id = user[\"id\"]\n",
    "    for business in businesses:\n",
    "        business_id = business[\"id\"]\n",
    "        for bid in business_ids:\n",
    "            if bid == business_id and user[\"businessId\"] == business_id:\n",
    "                leftNode = matcher.match(\"User\", id=user_id)\n",
    "                for left in leftNode:\n",
    "                    rightNode = matcher.match(\"Business\", id=business_id)\n",
    "                    for right in rightNode:\n",
    "                        relation = Relationship(left, \"Requested Services From\", right)\n",
    "                        graph.create(relation)"
   ]
  },
  {
   "cell_type": "code",
   "execution_count": 40,
   "id": "31063dac",
   "metadata": {},
   "outputs": [],
   "source": [
    "city_set = set()\n",
    "zipcode_set = set()\n",
    "\n",
    "for business in businesses:\n",
    "    city = business[\"location\"][\"city\"]\n",
    "    zipcode = business[\"location\"][\"zip_code\"]\n",
    "    \n",
    "    city_set.add(city)\n",
    "    zipcode_set.add(str(zipcode))"
   ]
  },
  {
   "cell_type": "code",
   "execution_count": 41,
   "id": "74cab3af",
   "metadata": {},
   "outputs": [],
   "source": [
    "# for city in city_set:\n",
    "#     graph.create(Node(\"City\", city=city))"
   ]
  },
  {
   "cell_type": "code",
   "execution_count": 42,
   "id": "a036f3cf",
   "metadata": {},
   "outputs": [],
   "source": [
    "for zipcode in zipcode_set:\n",
    "    graph.create(Node(\"Zipcode\", zipcode=zipcode))"
   ]
  },
  {
   "cell_type": "code",
   "execution_count": 43,
   "id": "b1c97ea7",
   "metadata": {},
   "outputs": [],
   "source": [
    "for business in businesses:\n",
    "    zipcode = business[\"location\"][\"zip_code\"]\n",
    "    business_id = business[\"id\"]\n",
    "    for bid in business_ids:\n",
    "        if bid == business_id:\n",
    "            leftNode = matcher.match(\"Business\", id=business_id)\n",
    "            for left in leftNode:\n",
    "                rightNode = matcher.match(\"Zipcode\", zipcode=zipcode)\n",
    "                for right in rightNode:\n",
    "                    relation = Relationship(left, \"Located In\", right)\n",
    "                    graph.create(relation)"
   ]
  },
  {
   "cell_type": "code",
   "execution_count": 44,
   "id": "85bcfc33",
   "metadata": {},
   "outputs": [],
   "source": [
    "events = []\n",
    "with open('./data-export/mongo/yelp_events.json') as json_file:\n",
    "    events = json.load(json_file)"
   ]
  },
  {
   "cell_type": "code",
   "execution_count": 45,
   "id": "887167de",
   "metadata": {},
   "outputs": [],
   "source": [
    "for event in events:\n",
    "    new_event = {\n",
    "        \"id\": event[\"id\"], \n",
    "        \"name\": event[\"name\"], \n",
    "        \"city\": event[\"location\"][\"city\"], \n",
    "        \"zipcode\": event[\"location\"][\"zip_code\"],\n",
    "        \"state\": event[\"location\"][\"state\"],\n",
    "        \"country\": event[\"location\"][\"country\"],\n",
    "        \"category\": event[\"category\"],\n",
    "        \"attending_count\": event[\"attending_count\"],\n",
    "        \"description\": event[\"description\"]\n",
    "    }\n",
    "    graph.create(Node(\"Event\", **new_event))"
   ]
  },
  {
   "cell_type": "code",
   "execution_count": 46,
   "id": "c1e17137",
   "metadata": {},
   "outputs": [],
   "source": [
    "# for city in city_set:\n",
    "#     for event in events:\n",
    "#         if city == event[\"location\"][\"city\"]:\n",
    "#             leftNode = list(matcher.match(\"City\").where(\"_.city='\" + city + \"'\"))\n",
    "#             for left in leftNode:\n",
    "#                 rightNode = list(matcher.match(\"Event\").where(\"_.city='\" + city + \"'\"))\n",
    "#                 for right in rightNode:\n",
    "#                     relation = Relationship(left, \"Has\", right)\n",
    "#                     graph.create(relation)"
   ]
  },
  {
   "cell_type": "code",
   "execution_count": 47,
   "id": "1ec54cd5",
   "metadata": {},
   "outputs": [],
   "source": [
    "for zipcode in zipcode_set:\n",
    "    for event in events:\n",
    "        if zipcode == event[\"location\"][\"zip_code\"]:\n",
    "            leftNode = list(matcher.match(\"Zipcode\").where(\"_.zipcode='\" + zipcode + \"'\"))\n",
    "            for left in leftNode:\n",
    "                rightNode = list(matcher.match(\"Event\").where(\"_.zipcode='\" + zipcode + \"'\"))\n",
    "                for right in rightNode:\n",
    "                    relation = Relationship(left, \"Has\", right)\n",
    "                    graph.create(relation)"
   ]
  },
  {
   "cell_type": "code",
   "execution_count": 48,
   "id": "3bf0f480",
   "metadata": {},
   "outputs": [],
   "source": [
    "reviews = []\n",
    "with open('./data-export/mongo/lookup_reviews.json') as json_file:\n",
    "    reviews = json.load(json_file)"
   ]
  },
  {
   "cell_type": "code",
   "execution_count": 49,
   "id": "e4fd197b",
   "metadata": {},
   "outputs": [],
   "source": [
    "for review in reviews:\n",
    "    new_review = {\n",
    "        \"business_id\": review[\"business_id\"], \n",
    "        \"text\": review[\"text\"], \n",
    "        \"rating\": review[\"rating\"], \n",
    "        \"user\": review[\"user\"][\"name\"]\n",
    "    }\n",
    "    graph.create(Node(\"Review\", **new_review))"
   ]
  },
  {
   "cell_type": "code",
   "execution_count": 50,
   "id": "70e94b49",
   "metadata": {},
   "outputs": [],
   "source": [
    "for user in users:\n",
    "    name = user[\"firstName\"] + \", \" + user[\"lastName\"]\n",
    "    for review in reviews:\n",
    "        username = review[\"user\"][\"name\"]\n",
    "        businessId = review[\"business_id\"]\n",
    "        if name == username:\n",
    "            leftNode = list(matcher.match(\"User\")\n",
    "                            .where(\"_.firstName=~ '\" + user[\"firstName\"] +\"'  \")\n",
    "                            .where(\"_.lastName=~ '\" + user[\"lastName\"] + \"' \")\n",
    "                           )\n",
    "            for left in leftNode:\n",
    "                rightNode = list(matcher.match(\"Business\").where(\"_.id='\" + businessId + \"'\"))\n",
    "                for right in rightNode:\n",
    "                    relation = Relationship(left, \"Reviewed\", right)\n",
    "                    graph.create(relation)"
   ]
  },
  {
   "cell_type": "code",
   "execution_count": null,
   "id": "21274d70",
   "metadata": {},
   "outputs": [],
   "source": []
  }
 ],
 "metadata": {
  "kernelspec": {
   "display_name": "Python 3 (ipykernel)",
   "language": "python",
   "name": "python3"
  },
  "language_info": {
   "codemirror_mode": {
    "name": "ipython",
    "version": 3
   },
   "file_extension": ".py",
   "mimetype": "text/x-python",
   "name": "python",
   "nbconvert_exporter": "python",
   "pygments_lexer": "ipython3",
   "version": "3.9.7"
  }
 },
 "nbformat": 4,
 "nbformat_minor": 5
}
